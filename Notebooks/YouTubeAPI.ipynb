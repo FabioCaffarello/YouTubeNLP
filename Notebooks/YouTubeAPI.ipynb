{
 "cells": [
  {
   "cell_type": "markdown",
   "metadata": {},
   "source": [
    "# Libraries"
   ]
  },
  {
   "cell_type": "code",
   "execution_count": 1,
   "metadata": {
    "ExecuteTime": {
     "end_time": "2020-10-25T04:32:07.758342Z",
     "start_time": "2020-10-25T04:32:07.746370Z"
    }
   },
   "outputs": [],
   "source": [
    "import os"
   ]
  },
  {
   "cell_type": "code",
   "execution_count": 2,
   "metadata": {
    "ExecuteTime": {
     "end_time": "2020-10-25T04:32:08.336858Z",
     "start_time": "2020-10-25T04:32:08.324948Z"
    }
   },
   "outputs": [],
   "source": [
    "import sys\n",
    "sys.path.append('../')"
   ]
  },
  {
   "cell_type": "code",
   "execution_count": 3,
   "metadata": {
    "ExecuteTime": {
     "end_time": "2020-10-25T04:32:08.868626Z",
     "start_time": "2020-10-25T04:32:08.839452Z"
    }
   },
   "outputs": [],
   "source": [
    "from YouTubeFunctions import *"
   ]
  },
  {
   "cell_type": "markdown",
   "metadata": {},
   "source": [
    "# Insert Info (URL anr API Key)"
   ]
  },
  {
   "cell_type": "code",
   "execution_count": 4,
   "metadata": {
    "ExecuteTime": {
     "end_time": "2020-10-25T04:32:09.737974Z",
     "start_time": "2020-10-25T04:32:09.729699Z"
    }
   },
   "outputs": [],
   "source": [
    "url_channel = \"https://www.youtube.com/channel/UC98CzaYuFNAA_gOINFB0e4Q\"\n",
    "youtube_api_key = os.environ.get('YT_API_KEY')"
   ]
  },
  {
   "cell_type": "markdown",
   "metadata": {},
   "source": [
    "# Geting the data from YouTubeFunctions"
   ]
  },
  {
   "cell_type": "code",
   "execution_count": 5,
   "metadata": {
    "ExecuteTime": {
     "end_time": "2020-10-25T04:39:34.939486Z",
     "start_time": "2020-10-25T04:32:10.888521Z"
    }
   },
   "outputs": [
    {
     "data": {
      "text/html": [
       "<div>\n",
       "<style scoped>\n",
       "    .dataframe tbody tr th:only-of-type {\n",
       "        vertical-align: middle;\n",
       "    }\n",
       "\n",
       "    .dataframe tbody tr th {\n",
       "        vertical-align: top;\n",
       "    }\n",
       "\n",
       "    .dataframe thead th {\n",
       "        text-align: right;\n",
       "    }\n",
       "</style>\n",
       "<table border=\"1\" class=\"dataframe\">\n",
       "  <thead>\n",
       "    <tr style=\"text-align: right;\">\n",
       "      <th></th>\n",
       "      <th>Comment Id</th>\n",
       "      <th>Comment</th>\n",
       "      <th>Comment Author</th>\n",
       "      <th>Author Comment Id</th>\n",
       "      <th>Like Comment Count</th>\n",
       "      <th>Total Reply Comment</th>\n",
       "      <th>Published At</th>\n",
       "    </tr>\n",
       "  </thead>\n",
       "  <tbody>\n",
       "    <tr>\n",
       "      <th>0</th>\n",
       "      <td>UgzJ2B2_hEop66p_8S54AaABAg</td>\n",
       "      <td>8:28 \"3 is completely different\".... where hav...</td>\n",
       "      <td>kootenpv</td>\n",
       "      <td>UCUHCartNErnN_H5qspkFa4A</td>\n",
       "      <td>0</td>\n",
       "      <td>0</td>\n",
       "      <td>2020-09-28 19:52:31</td>\n",
       "    </tr>\n",
       "    <tr>\n",
       "      <th>1</th>\n",
       "      <td>UgzS1g3Sx4hbO-tIIzp4AaABAg</td>\n",
       "      <td>you presented this exact same talk, with bette...</td>\n",
       "      <td>Jasper Zanjani</td>\n",
       "      <td>UCyA3C8CLZBQc4S-LxOynWAg</td>\n",
       "      <td>0</td>\n",
       "      <td>0</td>\n",
       "      <td>2020-09-29 19:56:12</td>\n",
       "    </tr>\n",
       "    <tr>\n",
       "      <th>2</th>\n",
       "      <td>UgxHMH8cLPVlRUkzuYN4AaABAg</td>\n",
       "      <td>Nice, very \"complete\" talk. I'd like to mentio...</td>\n",
       "      <td>kootenpv</td>\n",
       "      <td>UCUHCartNErnN_H5qspkFa4A</td>\n",
       "      <td>0</td>\n",
       "      <td>0</td>\n",
       "      <td>2020-09-28 19:39:07</td>\n",
       "    </tr>\n",
       "    <tr>\n",
       "      <th>3</th>\n",
       "      <td>Ugyl27-OEZ90OOPjDWV4AaABAg</td>\n",
       "      <td>Whole video is showing same poster .im too ear...</td>\n",
       "      <td>amul patil</td>\n",
       "      <td>UClD1xY45esZFaNcHmn1234w</td>\n",
       "      <td>0</td>\n",
       "      <td>0</td>\n",
       "      <td>2020-08-17 03:58:41</td>\n",
       "    </tr>\n",
       "    <tr>\n",
       "      <th>4</th>\n",
       "      <td>UgxAzzF2dWk3qKajjdJ4AaABAg</td>\n",
       "      <td>when will be the next session of EuroPython an...</td>\n",
       "      <td>ganesh dabral</td>\n",
       "      <td>UC81c40OURx9p65SOlOyyVkw</td>\n",
       "      <td>0</td>\n",
       "      <td>1</td>\n",
       "      <td>2020-02-20 12:27:31</td>\n",
       "    </tr>\n",
       "    <tr>\n",
       "      <th>...</th>\n",
       "      <td>...</td>\n",
       "      <td>...</td>\n",
       "      <td>...</td>\n",
       "      <td>...</td>\n",
       "      <td>...</td>\n",
       "      <td>...</td>\n",
       "      <td>...</td>\n",
       "    </tr>\n",
       "    <tr>\n",
       "      <th>1136</th>\n",
       "      <td>UgwX4Vr9rKs1jkGH2Ox4AaABAg</td>\n",
       "      <td>Plaese look this---&gt;&gt; https://www.youtube.com/...</td>\n",
       "      <td>CALL20 COM</td>\n",
       "      <td>UCxDC5H91FzwRSrIqlF7J9jQ</td>\n",
       "      <td>0</td>\n",
       "      <td>0</td>\n",
       "      <td>2020-03-09 12:17:04</td>\n",
       "    </tr>\n",
       "    <tr>\n",
       "      <th>1137</th>\n",
       "      <td>Ugi7W99GZYdJNHgCoAEC</td>\n",
       "      <td>Julie, you rock !</td>\n",
       "      <td>Faxa</td>\n",
       "      <td>UCw_ER6ZTHBxQMiK4WAHq2Gg</td>\n",
       "      <td>0</td>\n",
       "      <td>0</td>\n",
       "      <td>2014-12-14 19:26:47</td>\n",
       "    </tr>\n",
       "    <tr>\n",
       "      <th>1138</th>\n",
       "      <td>Ugh0Sv7xVC8aE3gCoAEC</td>\n",
       "      <td>good job  .......\\n\\n\\ni just want to learn mo...</td>\n",
       "      <td>Pawanvir Singh</td>\n",
       "      <td>UCR334KhjdxU2CP9AZ1rqaJA</td>\n",
       "      <td>0</td>\n",
       "      <td>0</td>\n",
       "      <td>2016-02-10 13:10:48</td>\n",
       "    </tr>\n",
       "    <tr>\n",
       "      <th>1139</th>\n",
       "      <td>Ugh9QKTaN_3lUngCoAEC</td>\n",
       "      <td>Respected, Sir,\\n                         I re...</td>\n",
       "      <td>Susanta Sharma</td>\n",
       "      <td>UCOvZgkxDJ1t8YQ5pWTrPLUw</td>\n",
       "      <td>0</td>\n",
       "      <td>0</td>\n",
       "      <td>2016-09-22 11:48:24</td>\n",
       "    </tr>\n",
       "    <tr>\n",
       "      <th>1140</th>\n",
       "      <td>UgyQuW2iToAphbFnWt94AaABAg</td>\n",
       "      <td>Very good presentation, and yes, DNS is hard, ...</td>\n",
       "      <td>Gonzalex</td>\n",
       "      <td>UCsNBwlwmVauPej_zsZaajzw</td>\n",
       "      <td>0</td>\n",
       "      <td>0</td>\n",
       "      <td>2019-02-08 23:10:40</td>\n",
       "    </tr>\n",
       "  </tbody>\n",
       "</table>\n",
       "<p>1141 rows × 7 columns</p>\n",
       "</div>"
      ],
      "text/plain": [
       "                      Comment Id  \\\n",
       "0     UgzJ2B2_hEop66p_8S54AaABAg   \n",
       "1     UgzS1g3Sx4hbO-tIIzp4AaABAg   \n",
       "2     UgxHMH8cLPVlRUkzuYN4AaABAg   \n",
       "3     Ugyl27-OEZ90OOPjDWV4AaABAg   \n",
       "4     UgxAzzF2dWk3qKajjdJ4AaABAg   \n",
       "...                          ...   \n",
       "1136  UgwX4Vr9rKs1jkGH2Ox4AaABAg   \n",
       "1137        Ugi7W99GZYdJNHgCoAEC   \n",
       "1138        Ugh0Sv7xVC8aE3gCoAEC   \n",
       "1139        Ugh9QKTaN_3lUngCoAEC   \n",
       "1140  UgyQuW2iToAphbFnWt94AaABAg   \n",
       "\n",
       "                                                Comment  Comment Author  \\\n",
       "0     8:28 \"3 is completely different\".... where hav...        kootenpv   \n",
       "1     you presented this exact same talk, with bette...  Jasper Zanjani   \n",
       "2     Nice, very \"complete\" talk. I'd like to mentio...        kootenpv   \n",
       "3     Whole video is showing same poster .im too ear...      amul patil   \n",
       "4     when will be the next session of EuroPython an...   ganesh dabral   \n",
       "...                                                 ...             ...   \n",
       "1136  Plaese look this--->> https://www.youtube.com/...      CALL20 COM   \n",
       "1137                                  Julie, you rock !            Faxa   \n",
       "1138  good job  .......\\n\\n\\ni just want to learn mo...  Pawanvir Singh   \n",
       "1139  Respected, Sir,\\n                         I re...  Susanta Sharma   \n",
       "1140  Very good presentation, and yes, DNS is hard, ...        Gonzalex   \n",
       "\n",
       "             Author Comment Id  Like Comment Count  Total Reply Comment  \\\n",
       "0     UCUHCartNErnN_H5qspkFa4A                   0                    0   \n",
       "1     UCyA3C8CLZBQc4S-LxOynWAg                   0                    0   \n",
       "2     UCUHCartNErnN_H5qspkFa4A                   0                    0   \n",
       "3     UClD1xY45esZFaNcHmn1234w                   0                    0   \n",
       "4     UC81c40OURx9p65SOlOyyVkw                   0                    1   \n",
       "...                        ...                 ...                  ...   \n",
       "1136  UCxDC5H91FzwRSrIqlF7J9jQ                   0                    0   \n",
       "1137  UCw_ER6ZTHBxQMiK4WAHq2Gg                   0                    0   \n",
       "1138  UCR334KhjdxU2CP9AZ1rqaJA                   0                    0   \n",
       "1139  UCOvZgkxDJ1t8YQ5pWTrPLUw                   0                    0   \n",
       "1140  UCsNBwlwmVauPej_zsZaajzw                   0                    0   \n",
       "\n",
       "            Published At  \n",
       "0    2020-09-28 19:52:31  \n",
       "1    2020-09-29 19:56:12  \n",
       "2    2020-09-28 19:39:07  \n",
       "3    2020-08-17 03:58:41  \n",
       "4    2020-02-20 12:27:31  \n",
       "...                  ...  \n",
       "1136 2020-03-09 12:17:04  \n",
       "1137 2014-12-14 19:26:47  \n",
       "1138 2016-02-10 13:10:48  \n",
       "1139 2016-09-22 11:48:24  \n",
       "1140 2019-02-08 23:10:40  \n",
       "\n",
       "[1141 rows x 7 columns]"
      ]
     },
     "execution_count": 5,
     "metadata": {},
     "output_type": "execute_result"
    }
   ],
   "source": [
    "get_comment_videos(url_channel,youtube_api_key)"
   ]
  }
 ],
 "metadata": {
  "kernelspec": {
   "display_name": "Python 3",
   "language": "python",
   "name": "python3"
  },
  "language_info": {
   "codemirror_mode": {
    "name": "ipython",
    "version": 3
   },
   "file_extension": ".py",
   "mimetype": "text/x-python",
   "name": "python",
   "nbconvert_exporter": "python",
   "pygments_lexer": "ipython3",
   "version": "3.8.3"
  },
  "toc": {
   "base_numbering": 1,
   "nav_menu": {},
   "number_sections": true,
   "sideBar": true,
   "skip_h1_title": false,
   "title_cell": "Table of Contents",
   "title_sidebar": "Contents",
   "toc_cell": false,
   "toc_position": {},
   "toc_section_display": true,
   "toc_window_display": false
  }
 },
 "nbformat": 4,
 "nbformat_minor": 4
}
